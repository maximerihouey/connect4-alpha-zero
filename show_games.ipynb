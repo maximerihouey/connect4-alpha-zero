{
 "cells": [
  {
   "cell_type": "code",
   "execution_count": 1,
   "metadata": {},
   "outputs": [],
   "source": [
    "import json"
   ]
  },
  {
   "cell_type": "code",
   "execution_count": 3,
   "metadata": {},
   "outputs": [],
   "source": [
    "data = json.load(open(\"data/play_data/play_20210409-233037.208493.json\"))"
   ]
  },
  {
   "cell_type": "code",
   "execution_count": 87,
   "metadata": {},
   "outputs": [],
   "source": [
    "def display_board(data_step):\n",
    "    nb_rows = 5\n",
    "    nb_columns = 7\n",
    "    for row in range(nb_rows - 1, -1, -1):\n",
    "        indices = [(row * nb_columns) + column for column in range(7)]\n",
    "        elements = [data_step[0][index] for index in indices]\n",
    "        print(\"|\" + \"|\".join(elements) + \"|\")\n",
    "    if data_step[2] == 1:\n",
    "        winner = 'X'\n",
    "    elif data_step[2] == 0:\n",
    "        winner = 'DRAW'\n",
    "    else:\n",
    "        winner = '0'\n",
    "    print([float(f\"{proba:.3f}\") for proba in data_step[1]], f\"Winner: {winner}\")"
   ]
  },
  {
   "cell_type": "code",
   "execution_count": 88,
   "metadata": {
    "scrolled": true
   },
   "outputs": [
    {
     "name": "stdout",
     "output_type": "stream",
     "text": [
      "| | | | | | | |\n",
      "| | | | | | | |\n",
      "| | | | | | | |\n",
      "| | | | | | | |\n",
      "| | | |X| | | |\n",
      "[0.041, 0.041, 0.245, 0.02, 0.531, 0.061, 0.061] Winner: X\n",
      "| | | | | | | |\n",
      "| | | | | | | |\n",
      "| | | | | | | |\n",
      "| | | |O| | | |\n",
      "|X| | |X| | | |\n",
      "[0.061, 0.347, 0.041, 0.265, 0.122, 0.102, 0.061] Winner: X\n",
      "| | | | | | | |\n",
      "| | | | | | | |\n",
      "| | | | | | | |\n",
      "|X| | |O| | | |\n",
      "|X| | |X|O| | |\n",
      "[0.0, 0.0, 0.0, 1.0, 0.0, 0.0, 0.0] Winner: X\n",
      "| | | | | | | |\n",
      "| | | | | | | |\n",
      "| | | |O| | | |\n",
      "|X| | |O| | | |\n",
      "|X| | |X|O|X| |\n",
      "[0.0, 0.0, 1.0, 0.0, 0.0, 0.0, 0.0] Winner: X\n",
      "| | | | | | | |\n",
      "| | | | | | | |\n",
      "| | | |O| | | |\n",
      "|X| | |O| |X| |\n",
      "|X| |O|X|O|X| |\n",
      "[0.0, 1.0, 0.0, 0.0, 0.0, 0.0, 0.0] Winner: X\n",
      "| | | | | | | |\n",
      "| | | | | | | |\n",
      "|X| | |O| | | |\n",
      "|X| | |O| |X| |\n",
      "|X|O|O|X|O|X| |\n",
      "[1.0, 0.0, 0.0, 0.0, 0.0, 0.0, 0.0] Winner: X\n",
      "| | | | | | | |\n",
      "|O| | | | | | |\n",
      "|X| | |O| |X| |\n",
      "|X| | |O| |X| |\n",
      "|X|O|O|X|O|X| |\n",
      "[0.0, 0.0, 0.0, 0.0, 0.0, 1.0, 0.0] Winner: X\n",
      "| | | | | | | |\n",
      "|O| | | | |O| |\n",
      "|X| | |O| |X| |\n",
      "|X|X| |O| |X| |\n",
      "|X|O|O|X|O|X| |\n",
      "[0.0, 0.0, 0.0, 0.0, 1.0, 0.0, 0.0] Winner: X\n",
      "| | | | | | | |\n",
      "|O| | | | |O| |\n",
      "|X| | |O|X|X| |\n",
      "|X|X| |O|O|X| |\n",
      "|X|O|O|X|O|X| |\n",
      "[0.0, 0.0, 0.0, 1.0, 0.0, 0.0, 0.0] Winner: X\n",
      "| | | |X| | | |\n",
      "|O| | |O| |O| |\n",
      "|X| | |O|X|X| |\n",
      "|X|X| |O|O|X| |\n",
      "|X|O|O|X|O|X| |\n",
      "[0.0, 0.0, 0.0, 0.0, 1.0, 0.0, 0.0] Winner: X\n"
     ]
    }
   ],
   "source": [
    "for i in range(10):\n",
    "    display_board(data[i])"
   ]
  },
  {
   "cell_type": "code",
   "execution_count": null,
   "metadata": {},
   "outputs": [],
   "source": []
  },
  {
   "cell_type": "code",
   "execution_count": null,
   "metadata": {},
   "outputs": [],
   "source": []
  },
  {
   "cell_type": "code",
   "execution_count": null,
   "metadata": {},
   "outputs": [],
   "source": []
  },
  {
   "cell_type": "code",
   "execution_count": null,
   "metadata": {},
   "outputs": [],
   "source": []
  },
  {
   "cell_type": "code",
   "execution_count": null,
   "metadata": {},
   "outputs": [],
   "source": []
  },
  {
   "cell_type": "code",
   "execution_count": null,
   "metadata": {},
   "outputs": [],
   "source": []
  },
  {
   "cell_type": "code",
   "execution_count": null,
   "metadata": {},
   "outputs": [],
   "source": []
  },
  {
   "cell_type": "code",
   "execution_count": null,
   "metadata": {},
   "outputs": [],
   "source": []
  },
  {
   "cell_type": "code",
   "execution_count": null,
   "metadata": {},
   "outputs": [],
   "source": []
  },
  {
   "cell_type": "code",
   "execution_count": null,
   "metadata": {},
   "outputs": [],
   "source": []
  },
  {
   "cell_type": "code",
   "execution_count": null,
   "metadata": {},
   "outputs": [],
   "source": []
  }
 ],
 "metadata": {
  "kernelspec": {
   "display_name": "Python 3",
   "language": "python",
   "name": "python3"
  },
  "language_info": {
   "codemirror_mode": {
    "name": "ipython",
    "version": 3
   },
   "file_extension": ".py",
   "mimetype": "text/x-python",
   "name": "python",
   "nbconvert_exporter": "python",
   "pygments_lexer": "ipython3",
   "version": "3.7.4"
  }
 },
 "nbformat": 4,
 "nbformat_minor": 2
}
